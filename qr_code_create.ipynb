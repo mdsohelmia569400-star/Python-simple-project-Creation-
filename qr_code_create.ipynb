{
  "nbformat": 4,
  "nbformat_minor": 0,
  "metadata": {
    "colab": {
      "provenance": []
    },
    "kernelspec": {
      "name": "python3",
      "display_name": "Python 3"
    },
    "language_info": {
      "name": "python"
    }
  },
  "cells": [
    {
      "cell_type": "code",
      "execution_count": null,
      "metadata": {
        "colab": {
          "base_uri": "https://localhost:8080/"
        },
        "id": "rHZEkj_vq-MG",
        "outputId": "6807a447-4ca9-4c77-9c50-b9282f458e04"
      },
      "outputs": [
        {
          "output_type": "stream",
          "name": "stdout",
          "text": [
            "Collecting qrcode\n",
            "  Downloading qrcode-8.0-py3-none-any.whl.metadata (17 kB)\n",
            "Downloading qrcode-8.0-py3-none-any.whl (45 kB)\n",
            "\u001b[?25l   \u001b[90m━━━━━━━━━━━━━━━━━━━━━━━━━━━━━━━━━━━━━━━━\u001b[0m \u001b[32m0.0/45.7 kB\u001b[0m \u001b[31m?\u001b[0m eta \u001b[36m-:--:--\u001b[0m\r\u001b[2K   \u001b[90m━━━━━━━━━━━━━━━━━━━━━━━━━━━━━━━━━━━━━━━━\u001b[0m \u001b[32m45.7/45.7 kB\u001b[0m \u001b[31m2.2 MB/s\u001b[0m eta \u001b[36m0:00:00\u001b[0m\n",
            "\u001b[?25hInstalling collected packages: qrcode\n",
            "Successfully installed qrcode-8.0\n"
          ]
        }
      ],
      "source": [
        "!pip install qrcode\n",
        "import qrcode as qr"
      ]
    },
    {
      "cell_type": "code",
      "source": [
        "\n",
        "img = qr.make('https://wa.me/qr/PT527VPHKQT4G1 ')\n",
        "img.save('my  id.png')"
      ],
      "metadata": {
        "id": "Br5d18SXrCQ6"
      },
      "execution_count": null,
      "outputs": []
    },
    {
      "cell_type": "code",
      "source": [
        "img = qr.make(' 01@456890@10')\n",
        "\n",
        "img.save('wifi password.png')"
      ],
      "metadata": {
        "id": "ZoTLH6xas8fq"
      },
      "execution_count": null,
      "outputs": []
    },
    {
      "cell_type": "code",
      "source": [
        "### advance pq cone create\n",
        "\n",
        "import qrcode\n",
        "\n",
        "\n",
        "from PIL import Image\n",
        "\n",
        "qr = qrcode.QRCode(version=1,error_correction=qrcode.constants.ERROR_CORRECT_H,box_size=10,border=4)\n",
        "qr.add_data('bba-07-01@eminence.edu.bd')\n",
        "img = qr.make_image(fill_color=\"red\",back_color=\"white\")\n",
        "img.save('Mail.png')"
      ],
      "metadata": {
        "id": "XD7kUmrds-l2"
      },
      "execution_count": null,
      "outputs": []
    },
    {
      "cell_type": "code",
      "source": [],
      "metadata": {
        "id": "El15Dn5hs-5e"
      },
      "execution_count": null,
      "outputs": []
    },
    {
      "cell_type": "code",
      "source": [],
      "metadata": {
        "id": "g7c2T4Sws_Jv"
      },
      "execution_count": null,
      "outputs": []
    }
  ]
}