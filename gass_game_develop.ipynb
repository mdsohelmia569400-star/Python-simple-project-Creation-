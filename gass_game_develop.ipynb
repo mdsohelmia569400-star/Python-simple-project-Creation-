{
  "cells": [
    {
      "cell_type": "code",
      "execution_count": null,
      "metadata": {
        "colab": {
          "background_save": true,
          "base_uri": "https://localhost:8080/"
        },
        "id": "k-oopxZBJGUr",
        "outputId": "8449dd3d-8af3-4591-c4f0-987e75eb1692"
      },
      "outputs": [
        {
          "output_type": "stream",
          "name": "stdout",
          "text": [
            "y1 gess a number :4\n",
            "y2 gess a number :1\n",
            "y3 gess a number :3\n",
            "y4 gess a number :5\n",
            "y1 is wini\n",
            "y2 is lose!\n",
            "y3 is lose!\n",
            "y4 is lose!\n",
            "y1 gess a number :5\n",
            "y2 gess a number :3\n",
            "y3 gess a number :1\n",
            "y4 gess a number :3\n",
            "y1 is lose!\n",
            "y2 is lose!\n",
            "y3 is lose!\n",
            "y4 is lose!\n"
          ]
        }
      ],
      "source": [
        "import random\n",
        "\n",
        "\n",
        "score1 = 0\n",
        "score2 = 0\n",
        "score3 = 0\n",
        "score4 = 0\n",
        "\n",
        "for i in range (10):\n",
        "  x1 = random.randint(3,9)\n",
        "  x2 = random.randint(3,9)\n",
        "  x3 = random.randint(3,9)\n",
        "  x4 = random.randint(3,9)\n",
        "  y1 = int(input('y1 gess a number :'))\n",
        "  y2 = int(input('y2 gess a number :'))\n",
        "  y3 = int(input('y3 gess a number :'))\n",
        "  y4 = int(input('y4 gess a number :'))\n",
        "\n",
        "  if x1==y1 :\n",
        "    print('y1 is wini')\n",
        "    score1+=1\n",
        "  else:\n",
        "    print('y1 is lose!')\n",
        "\n",
        "  if x2==y2 :\n",
        "    print('y2 is wini')\n",
        "    score2+=1\n",
        "  else:\n",
        "    print('y2 is lose!')\n",
        "\n",
        "  if x3==y3 :\n",
        "    print('y3 is wini')\n",
        "    score3+=1\n",
        "  else:\n",
        "    print('y3 is lose!')\n",
        "\n",
        "  if x4==y4 :\n",
        "    print('y4 is wini')\n",
        "    score4+=1\n",
        "  else:\n",
        "    print('y4 is lose!')\n",
        "\n",
        "print('your score is :',score1,score2,score3,score4)\n",
        "\n"
      ]
    },
    {
      "cell_type": "code",
      "execution_count": null,
      "metadata": {
        "id": "8ylD5wHIJGx5"
      },
      "outputs": [],
      "source": [
        "import random\n",
        "\n",
        "\n",
        "score1 = 0\n",
        "score2 = 0\n",
        "score3 = 0\n",
        "score4 = 0\n",
        "\n",
        "for i in range (10):\n",
        "  x1 = random.randint(3,9)\n",
        "  x2 = random.randint(3,9)\n",
        "  x3 = random.randint(3,9)\n",
        "  x4 = random.randint(3,9)\n",
        "  y1 = int(input('y1 gess a number :'))\n",
        "  y2 = int(input('y2 gess a number :'))\n",
        "  y3 = int(input('y3 gess a number :'))\n",
        "  y4 = int(input('y4 gess a number :'))\n",
        "\n",
        "  if x1==y1 :\n",
        "    print('y1 is wini')\n",
        "    score1+=1\n",
        "  else:\n",
        "    print('y1 is lose!')\n",
        "    print('this random number was :', x1)\n",
        "\n",
        "  if x2==y2 :\n",
        "    print('y2 is wini')\n",
        "    score2+=1\n",
        "  else:\n",
        "    print('y2 is lose!')\n",
        "    print('this random number was :',x2)\n",
        "\n",
        "  if x3==y3 :\n",
        "    print('y3 is wini')\n",
        "    score3+=1\n",
        "  else:\n",
        "    print('y3 is lose!')\n",
        "    print('this random number was :',x3)\n",
        "\n",
        "  if x4==y4 :\n",
        "    print('y4 is wini')\n",
        "    score4+=1\n",
        "  else:\n",
        "    print('y4 is lose!')\n",
        "    print('this random number was :',x4)\n",
        "\n",
        "print('your score is :',score1,score2,score3,score4)\n",
        "\n"
      ]
    },
    {
      "cell_type": "code",
      "execution_count": null,
      "metadata": {
        "id": "XT4K0vFDJHGR"
      },
      "outputs": [],
      "source": []
    }
  ],
  "metadata": {
    "colab": {
      "provenance": []
    },
    "kernelspec": {
      "display_name": "Python 3",
      "name": "python3"
    },
    "language_info": {
      "name": "python"
    }
  },
  "nbformat": 4,
  "nbformat_minor": 0
}