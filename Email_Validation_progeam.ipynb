{
  "nbformat": 4,
  "nbformat_minor": 0,
  "metadata": {
    "colab": {
      "provenance": []
    },
    "kernelspec": {
      "name": "python3",
      "display_name": "Python 3"
    },
    "language_info": {
      "name": "python"
    }
  },
  "cells": [
    {
      "cell_type": "code",
      "source": [],
      "metadata": {
        "id": "sgXWUnNXmn1d"
      },
      "execution_count": null,
      "outputs": []
    },
    {
      "cell_type": "code",
      "source": [
        "email = input('Enter your Email :')  # Example email input\n",
        "\n",
        "if len(email) >= 6:  # Ensure email has at least 6 characters\n",
        "    if email[0].isalpha():  # Check if the first character is a letter\n",
        "        if ('@' in email) and (email.count('@') == 1):  # Check for a single '@'\n",
        "            if (email[-4] == '.') ^ (email[-3] == '.'):  # Check for valid domain like .com or .bd\n",
        "                for char in email:\n",
        "                    if char.isalnum() or char in ['@', '.', '_', '-']:  # Allow valid characters\n",
        "                        continue\n",
        "                    else:\n",
        "                        print(\"Invalid character in email\")\n",
        "                        break\n",
        "                else:\n",
        "                    print(\"Valid email\")\n",
        "            else:\n",
        "                print(\"Invalid email: Incorrect domain format\")\n",
        "        else:\n",
        "            print(\"Invalid email: '@' issue\")\n",
        "    else:\n",
        "        print(\"Invalid email: First character should be a letter\")\n",
        "else:\n",
        "    print(\"Invalid email: Too short\")"
      ],
      "metadata": {
        "colab": {
          "base_uri": "https://localhost:8080/"
        },
        "id": "llfLaORrmoR4",
        "outputId": "700b0531-5983-4e55-92a1-17caf458f6db"
      },
      "execution_count": null,
      "outputs": [
        {
          "output_type": "stream",
          "name": "stdout",
          "text": [
            "Enter your Email :taniaritu20411@gmail.com\n",
            "Valid email\n"
          ]
        }
      ]
    },
    {
      "cell_type": "code",
      "source": [],
      "metadata": {
        "id": "89Uq0tKkmof1"
      },
      "execution_count": null,
      "outputs": []
    },
    {
      "cell_type": "code",
      "source": [],
      "metadata": {
        "id": "mU-aQWK6moxl"
      },
      "execution_count": null,
      "outputs": []
    }
  ]
}