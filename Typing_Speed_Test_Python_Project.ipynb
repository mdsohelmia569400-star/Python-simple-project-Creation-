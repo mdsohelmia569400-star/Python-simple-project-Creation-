{
  "cells": [
    {
      "cell_type": "code",
      "execution_count": 1,
      "metadata": {
        "colab": {
          "base_uri": "https://localhost:8080/"
        },
        "id": "Bn5cgwnNdQIc",
        "outputId": "e6501865-8cd3-4161-a850-f9f8bc67b59d"
      },
      "outputs": [
        {
          "output_type": "stream",
          "name": "stdout",
          "text": [
            "******  typing speed *******\n",
            "and i also student of DIPTI, DIPTI is a kind of professional training center \n",
            "\n",
            "\n",
            "Enter input  : gfdgfghfgjfyjh\n",
            "Speed :  1 w/sec\n",
            "Error :  76\n"
          ]
        }
      ],
      "source": [
        "### 1st need error calculation and 2nd need speed calculation\n",
        "\n",
        "from time import*\n",
        "import random as r\n",
        "def mistake(partest,usertest):\n",
        "  Error = 0\n",
        "  for i in range(len(partest)):\n",
        "    try:\n",
        "      if partest[i] != usertest[i]:\n",
        "        Error = Error + 1\n",
        "    except:\n",
        "      Error = Error + 1\n",
        "  return Error\n",
        "\n",
        "def speed_time(time_s,time_e,userinput):\n",
        "  time_delay = time_e - time_s\n",
        "  time_R = round(time_delay,2)\n",
        "  speed = len(userinput)/time_R\n",
        "  return round(speed)\n",
        "\n",
        "test = [\" i am sohel i am student of eminence college situated at dhanmondi dahka i think there are best platfrom for learning \",\n",
        "        \"and i also student of DIPTI, DIPTI is a kind of professional training center \"]\n",
        "\n",
        "test1 = r.choice(test)\n",
        "print('******  typing speed *******')\n",
        "print(test1)\n",
        "print()\n",
        "print()\n",
        "time_1 = time()\n",
        "testinput = input(\"Enter input  : \")\n",
        "time_2 = time()\n",
        "\n",
        "\n",
        "print('Speed : ',speed_time(time_1,time_2,testinput),\"w/sec\")\n",
        "print('Error : ',mistake(test1,testinput))\n"
      ]
    },
    {
      "cell_type": "code",
      "execution_count": null,
      "metadata": {
        "id": "smTqM8eTFkbT"
      },
      "outputs": [],
      "source": []
    },
    {
      "cell_type": "code",
      "execution_count": null,
      "metadata": {
        "id": "2vd8lj_2Fk6Z"
      },
      "outputs": [],
      "source": []
    },
    {
      "cell_type": "code",
      "execution_count": null,
      "metadata": {
        "id": "I47r4vL0dhcM",
        "colab": {
          "base_uri": "https://localhost:8080/"
        },
        "outputId": "7091af9b-bd1e-47a3-8719-2cab721ee184"
      },
      "outputs": [
        {
          "output_type": "stream",
          "name": "stdout",
          "text": [
            "\n",
            "****** Typing Speed Test ******\n",
            "\n",
            "Type the following text as quickly and accurately as possible:\n",
            "\n",
            "I am also a student of DIPTI. DIPTI is a professional training center offering a wide range of skills and courses.\n",
            "\n",
            "\n",
            "Enter the text: I am also a student of DIPTI. DIPTI is a professional training center offering a wide range of skill and course\n",
            "\n",
            "****** Test Results ******\n",
            "Typing Speed: 14.54 WPM (Words Per Minute)\n",
            "Errors Made: 2\n",
            "Total Time: 86.66 seconds\n",
            "Great job! Keep practicing for perfection.\n"
          ]
        }
      ],
      "source": [
        "\n",
        "#### These are little advance code  in above ######\n",
        "\n",
        "import time\n",
        "import random as r\n",
        "\n",
        "def calculate_errors(partest, usertest):\n",
        "    \"\"\"\n",
        "    Calculate the number of errors by comparing each word in the original text\n",
        "    with the user's input.\n",
        "    \"\"\"\n",
        "    partest_words = partest.split()\n",
        "    usertest_words = usertest.split()\n",
        "    errors = 0\n",
        "\n",
        "    for i in range(min(len(partest_words), len(usertest_words))):\n",
        "        if partest_words[i] != usertest_words[i]:\n",
        "            errors += 1\n",
        "\n",
        "    # Add additional errors for missing words\n",
        "    errors += abs(len(partest_words) - len(usertest_words))\n",
        "    return errors\n",
        "\n",
        "def calculate_speed(start_time, end_time, user_input):\n",
        "    \"\"\"\n",
        "    Calculate typing speed in words per minute (WPM).\n",
        "    \"\"\"\n",
        "    total_time = end_time - start_time\n",
        "    word_count = len(user_input.split())\n",
        "    speed_wpm = (word_count / total_time) * 60  # Convert seconds to minutes\n",
        "    return round(speed_wpm, 2)\n",
        "\n",
        "def typing_test():\n",
        "    \"\"\"\n",
        "    Conduct the typing speed test.\n",
        "    \"\"\"\n",
        "    # Predefined test sentences\n",
        "    test_sentences = [\n",
        "        \"I am Sohel, a student of Eminence College situated in Dhanmondi Dhaka. I think it is the best platform for learning.\",\n",
        "        \"I am also a student of DIPTI. DIPTI is a professional training center offering a wide range of skills and courses.\"\n",
        "    ]\n",
        "\n",
        "    # Select a random sentence\n",
        "    test_sentence = r.choice(test_sentences)\n",
        "    print(\"\\n****** Typing Speed Test ******\")\n",
        "    print(f\"\\nType the following text as quickly and accurately as possible:\\n\\n{test_sentence}\\n\")\n",
        "\n",
        "    # Record start time\n",
        "    start_time = time.time()\n",
        "    user_input = input(\"\\nEnter the text: \")\n",
        "    # Record end time\n",
        "    end_time = time.time()\n",
        "\n",
        "    # Calculate speed and errors\n",
        "    speed = calculate_speed(start_time, end_time, user_input)\n",
        "    errors = calculate_errors(test_sentence, user_input)\n",
        "\n",
        "    # Display results\n",
        "    print(\"\\n****** Test Results ******\")\n",
        "    print(f\"Typing Speed: {speed} WPM (Words Per Minute)\")\n",
        "    print(f\"Errors Made: {errors}\")\n",
        "    print(f\"Total Time: {round(end_time - start_time, 2)} seconds\")\n",
        "    if errors == 0:\n",
        "        print(\"Excellent! Perfect accuracy!\")\n",
        "    elif errors <= 5:\n",
        "        print(\"Great job! Keep practicing for perfection.\")\n",
        "    else:\n",
        "        print(\"Good attempt! Work on reducing errors.\")\n",
        "\n",
        "# Run the typing test\n",
        "typing_test()"
      ]
    },
    {
      "cell_type": "code",
      "execution_count": null,
      "metadata": {
        "id": "Q23y4OM2dhvx"
      },
      "outputs": [],
      "source": []
    },
    {
      "cell_type": "code",
      "execution_count": null,
      "metadata": {
        "id": "1E18S1gcdiEC"
      },
      "outputs": [],
      "source": []
    },
    {
      "cell_type": "code",
      "execution_count": null,
      "metadata": {
        "id": "qSI9LQ7BdiVp"
      },
      "outputs": [],
      "source": []
    },
    {
      "cell_type": "code",
      "execution_count": null,
      "metadata": {
        "id": "z6g0OzL4dikB"
      },
      "outputs": [],
      "source": []
    },
    {
      "cell_type": "code",
      "execution_count": null,
      "metadata": {
        "id": "jVILgLPzdjgJ"
      },
      "outputs": [],
      "source": []
    }
  ],
  "metadata": {
    "colab": {
      "provenance": []
    },
    "kernelspec": {
      "display_name": "Python 3",
      "name": "python3"
    },
    "language_info": {
      "name": "python"
    }
  },
  "nbformat": 4,
  "nbformat_minor": 0
}